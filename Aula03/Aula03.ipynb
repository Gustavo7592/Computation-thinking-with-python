{
 "cells": [
  {
   "cell_type": "code",
   "execution_count": 3,
   "metadata": {},
   "outputs": [
    {
     "name": "stdout",
     "output_type": "stream",
     "text": [
      "O pagamento sera feito no proximo dia util\n"
     ]
    }
   ],
   "source": [
    "diaMes = int(input(\"Digite um dia do mes entre 1 e 30\"))\n",
    "diaSemana = str(input(\"Digite o dia da semana\"))\n",
    "\n",
    "if (diaMes >= 5 or diaMes <= 10) and not (diaSemana == \"sabado\" or diaSemana == \"domingo\"):\n",
    "    print(\"Sera dia de pagamento\")\n",
    "elif (diaMes >= 5 or diaMes <= 10) and (diaSemana == \"sabado\" or diaSemana == \"domingo\"):\n",
    "    print(\"O pagamento sera feito no proximo dia util\")"
   ]
  },
  {
   "cell_type": "code",
   "execution_count": 25,
   "metadata": {},
   "outputs": [
    {
     "name": "stdout",
     "output_type": "stream",
     "text": [
      "Usuario Correto\n",
      "Bem-vindo ao sistema\n"
     ]
    }
   ],
   "source": [
    "usuario = str(input(\"Digite seu usuario\"))\n",
    "\n",
    "cadastroUsuario = \"Gustavo\"\n",
    "senhaCerta = \"1234\"\n",
    "\n",
    "if (usuario == cadastroUsuario):\n",
    "    print(\"Usuario Correto\")\n",
    "    senha = str(input(\"Usuario certo agora digite sua senha\"))\n",
    "    if senha == senhaCerta:\n",
    "        print(\"Bem-vindo ao sistema\")\n",
    "    else:\n",
    "        print(\"Senha errada errado tente novamente\")\n",
    "else:\n",
    "    print(\"Usuario Incorreto\")\n"
   ]
  },
  {
   "cell_type": "code",
   "execution_count": null,
   "metadata": {},
   "outputs": [],
   "source": []
  }
 ],
 "metadata": {
  "kernelspec": {
   "display_name": "Python 3",
   "language": "python",
   "name": "python3"
  },
  "language_info": {
   "codemirror_mode": {
    "name": "ipython",
    "version": 3
   },
   "file_extension": ".py",
   "mimetype": "text/x-python",
   "name": "python",
   "nbconvert_exporter": "python",
   "pygments_lexer": "ipython3",
   "version": "3.12.3"
  }
 },
 "nbformat": 4,
 "nbformat_minor": 2
}
